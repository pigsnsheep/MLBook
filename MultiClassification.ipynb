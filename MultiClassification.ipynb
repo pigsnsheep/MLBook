{
 "cells": [
  {
   "cell_type": "code",
   "execution_count": 76,
   "metadata": {},
   "outputs": [
    {
     "name": "stdout",
     "output_type": "stream",
     "text": [
      "The tensorboard extension is already loaded. To reload it, use:\n",
      "  %reload_ext tensorboard\n"
     ]
    }
   ],
   "source": [
    "import keras\n",
    "import tensorflow as tf\n",
    "import datetime\n",
    "import numpy as np\n",
    "from keras.datasets import reuters\n",
    "from keras.utils import to_categorical\n",
    "from keras import models\n",
    "from keras import layers\n",
    "\n",
    "\n",
    "\n",
    "\n",
    "\n",
    "%load_ext tensorboard"
   ]
  },
  {
   "cell_type": "markdown",
   "metadata": {},
   "source": [
    "## ONE HOT ENCODING FUNCTION\n",
    "\n"
   ]
  },
  {
   "cell_type": "code",
   "execution_count": 77,
   "metadata": {},
   "outputs": [],
   "source": [
    "\n",
    "def one_hot_encode(sequences, dimension):\n",
    "\n",
    "    results = np.zeros((len(sequences), dimension))\n",
    "    for i, sequence in enumerate(sequences):\n",
    "        results[i, sequence] += 1\n",
    "    return results"
   ]
  },
  {
   "cell_type": "code",
   "execution_count": 47,
   "metadata": {},
   "outputs": [
    {
     "data": {
      "text/plain": [
       "Reusing TensorBoard on port 6006 (pid 61882), started 21:53:38 ago. (Use '!kill 61882' to kill it.)"
      ]
     },
     "metadata": {},
     "output_type": "display_data"
    },
    {
     "data": {
      "text/html": [
       "\n",
       "      <iframe id=\"tensorboard-frame-63776fe5997018f0\" width=\"100%\" height=\"800\" frameborder=\"0\">\n",
       "      </iframe>\n",
       "      <script>\n",
       "        (function() {\n",
       "          const frame = document.getElementById(\"tensorboard-frame-63776fe5997018f0\");\n",
       "          const url = new URL(\"http://localhost\");\n",
       "          const port = 6006;\n",
       "          if (port) {\n",
       "            url.port = port;\n",
       "          }\n",
       "          frame.src = url;\n",
       "        })();\n",
       "      </script>\n",
       "    "
      ],
      "text/plain": [
       "<IPython.core.display.HTML object>"
      ]
     },
     "metadata": {},
     "output_type": "display_data"
    }
   ],
   "source": [
    "%tensorboard --logdir logs/fit"
   ]
  },
  {
   "cell_type": "markdown",
   "metadata": {},
   "source": [
    "## Put every non-import into one cell to maintain optimial performance"
   ]
  },
  {
   "cell_type": "code",
   "execution_count": 103,
   "metadata": {},
   "outputs": [
    {
     "name": "stdout",
     "output_type": "stream",
     "text": [
      "Epoch 1/20\n",
      "63/63 [==============================] - 1s 7ms/step - loss: 2.1275 - accuracy: 0.5546 - val_loss: 1.3110 - val_accuracy: 0.7060\n",
      "Epoch 2/20\n",
      "63/63 [==============================] - 0s 5ms/step - loss: 1.0123 - accuracy: 0.7813 - val_loss: 1.0230 - val_accuracy: 0.7870\n",
      "Epoch 3/20\n",
      "63/63 [==============================] - 0s 5ms/step - loss: 0.6264 - accuracy: 0.8667 - val_loss: 0.9037 - val_accuracy: 0.8100\n",
      "Epoch 4/20\n",
      "63/63 [==============================] - 0s 5ms/step - loss: 0.3915 - accuracy: 0.9197 - val_loss: 0.8711 - val_accuracy: 0.8180\n",
      "Epoch 5/20\n",
      "63/63 [==============================] - 0s 5ms/step - loss: 0.2774 - accuracy: 0.9400 - val_loss: 0.9156 - val_accuracy: 0.7970\n",
      "Epoch 6/20\n",
      "63/63 [==============================] - 0s 5ms/step - loss: 0.2184 - accuracy: 0.9484 - val_loss: 0.9112 - val_accuracy: 0.8170\n",
      "Epoch 7/20\n",
      "63/63 [==============================] - 0s 5ms/step - loss: 0.1862 - accuracy: 0.9531 - val_loss: 0.9475 - val_accuracy: 0.8040\n",
      "Epoch 8/20\n",
      "63/63 [==============================] - 0s 5ms/step - loss: 0.1630 - accuracy: 0.9548 - val_loss: 0.9563 - val_accuracy: 0.8080\n",
      "Epoch 9/20\n",
      "63/63 [==============================] - 0s 5ms/step - loss: 0.1492 - accuracy: 0.9553 - val_loss: 0.9953 - val_accuracy: 0.8010\n",
      "Epoch 10/20\n",
      "63/63 [==============================] - 0s 5ms/step - loss: 0.1390 - accuracy: 0.9567 - val_loss: 0.9983 - val_accuracy: 0.8020\n",
      "Epoch 11/20\n",
      "63/63 [==============================] - 0s 5ms/step - loss: 0.1309 - accuracy: 0.9590 - val_loss: 0.9963 - val_accuracy: 0.8020\n",
      "Epoch 12/20\n",
      "63/63 [==============================] - 0s 5ms/step - loss: 0.1266 - accuracy: 0.9585 - val_loss: 1.0794 - val_accuracy: 0.7950\n",
      "Epoch 13/20\n",
      "63/63 [==============================] - 0s 5ms/step - loss: 0.1250 - accuracy: 0.9562 - val_loss: 1.0198 - val_accuracy: 0.8060\n",
      "Epoch 14/20\n",
      "63/63 [==============================] - 0s 5ms/step - loss: 0.1201 - accuracy: 0.9564 - val_loss: 0.9836 - val_accuracy: 0.8110\n",
      "Epoch 15/20\n",
      "63/63 [==============================] - 0s 5ms/step - loss: 0.1158 - accuracy: 0.9575 - val_loss: 1.0722 - val_accuracy: 0.8010\n",
      "Epoch 16/20\n",
      "63/63 [==============================] - 0s 5ms/step - loss: 0.1131 - accuracy: 0.9572 - val_loss: 1.0281 - val_accuracy: 0.8040\n",
      "Epoch 17/20\n",
      "63/63 [==============================] - 0s 5ms/step - loss: 0.1164 - accuracy: 0.9569 - val_loss: 0.9977 - val_accuracy: 0.8120\n",
      "Epoch 18/20\n",
      "63/63 [==============================] - 0s 5ms/step - loss: 0.1111 - accuracy: 0.9574 - val_loss: 1.0566 - val_accuracy: 0.8050\n",
      "Epoch 19/20\n",
      "63/63 [==============================] - 0s 5ms/step - loss: 0.1080 - accuracy: 0.9585 - val_loss: 1.0178 - val_accuracy: 0.8080\n",
      "Epoch 20/20\n",
      "63/63 [==============================] - 0s 5ms/step - loss: 0.1063 - accuracy: 0.9599 - val_loss: 1.0540 - val_accuracy: 0.8020\n"
     ]
    },
    {
     "data": {
      "text/plain": [
       "<keras.src.callbacks.History at 0x2a01ba4d0>"
      ]
     },
     "execution_count": 103,
     "metadata": {},
     "output_type": "execute_result"
    }
   ],
   "source": [
    "(train_data, train_labels), (test_data, test_labels) = reuters.load_data(num_words=10000)\n",
    "\n",
    "model = models.Sequential()\n",
    "\n",
    "model.add(layers.Dense(64, activation='relu', input_shape=(10000,)))\n",
    "model.add(layers.Dense(64, activation='relu'))\n",
    "model.add(layers.Dense(46, activation='softmax'))\n",
    "\n",
    "model.compile(optimizer='adam',loss='sparse_categorical_crossentropy',metrics=['accuracy'])\n",
    "\n",
    "#ONE HOT ENCODING\n",
    "\n",
    "x_train = one_hot_encode(train_data, 10000)\n",
    "x_test = one_hot_encode(test_data, 10000)\n",
    "\n",
    "y_train = train_labels\n",
    "y_test = test_labels\n",
    "\n",
    "x_val = x_train[:1000]\n",
    "x_train = x_train[1000:]\n",
    "\n",
    "y_val = y_train[:1000]\n",
    "y_train = y_train[1000:]\n",
    "\n",
    "\n",
    "\n",
    "log_dir = \"logs/fit/\" + datetime.datetime.now().strftime(\"%Y%m%d-%H%M%S\")\n",
    "tensorboard_callback = tf.keras.callbacks.TensorBoard(log_dir=log_dir, histogram_freq=1)\n",
    "\n",
    "model.fit(x_train,y_train, epochs = 20, batch_size=128, validation_data=(x_val,y_val), callbacks=[tensorboard_callback])"
   ]
  }
 ],
 "metadata": {
  "kernelspec": {
   "display_name": "Python 3",
   "language": "python",
   "name": "python3"
  },
  "language_info": {
   "codemirror_mode": {
    "name": "ipython",
    "version": 3
   },
   "file_extension": ".py",
   "mimetype": "text/x-python",
   "name": "python",
   "nbconvert_exporter": "python",
   "pygments_lexer": "ipython3",
   "version": "3.10.6"
  }
 },
 "nbformat": 4,
 "nbformat_minor": 2
}
